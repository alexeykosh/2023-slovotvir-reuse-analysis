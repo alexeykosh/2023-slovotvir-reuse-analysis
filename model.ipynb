{
 "cells": [
  {
   "cell_type": "code",
   "execution_count": 113,
   "metadata": {},
   "outputs": [],
   "source": [
    "import numpy as np\n",
    "import pandas as pd\n",
    "import tqdm.auto as tqdm\n",
    "import matplotlib.pyplot as plt\n",
    "import matplotlib.ticker as mticker\n",
    "from collections import defaultdict\n",
    "import pickle"
   ]
  },
  {
   "cell_type": "code",
   "execution_count": 114,
   "metadata": {},
   "outputs": [],
   "source": [
    "epochs = 20 # data partition (important for the dataset construction)"
   ]
  },
  {
   "cell_type": "code",
   "execution_count": 115,
   "metadata": {},
   "outputs": [],
   "source": [
    "def adjust_entropy(prob_distribution, temperature):\n",
    "    temperature = max(1e-3, temperature)\n",
    "    scaled_probs = np.power(prob_distribution, 1 / temperature)\n",
    "    adjusted_distribution = scaled_probs / np.sum(scaled_probs)\n",
    "\n",
    "    return adjusted_distribution\n"
   ]
  },
  {
   "cell_type": "code",
   "execution_count": 116,
   "metadata": {},
   "outputs": [],
   "source": [
    "def min_max_scaling_numpy(data, new_min=1, new_max=10):\n",
    "    if data.size == 0:\n",
    "        return data\n",
    "    original_min = np.min(data)\n",
    "    original_max = np.max(data)\n",
    "\n",
    "    if original_min == original_max or new_min == new_max:\n",
    "        return data\n",
    "    scaled_data = ((data - original_min) / (original_max - original_min)) * (new_max - new_min) + new_min\n",
    "    \n",
    "    return scaled_data"
   ]
  },
  {
   "cell_type": "code",
   "execution_count": 117,
   "metadata": {},
   "outputs": [],
   "source": [
    "def shannon_diversity_index(true_likes):\n",
    "    true_likes_sorted = np.sort(true_likes)[::-1]\n",
    "    _, like_counts = np.unique(true_likes_sorted, return_counts=True)\n",
    "    like_proportions = like_counts / np.sum(like_counts)\n",
    "    return -np.sum(like_proportions * np.log(like_proportions))"
   ]
  },
  {
   "cell_type": "code",
   "execution_count": 118,
   "metadata": {},
   "outputs": [],
   "source": [
    "def simpson_diversity_index(true_likes):\n",
    "    true_likes_sorted = np.sort(true_likes)[::-1]\n",
    "    _, like_counts = np.unique(true_likes_sorted, return_counts=True)\n",
    "    like_proportions = like_counts / np.sum(like_counts)\n",
    "    return np.sum(like_proportions ** 2)"
   ]
  },
  {
   "cell_type": "code",
   "execution_count": 119,
   "metadata": {},
   "outputs": [],
   "source": [
    "def summary_func(likes):\n",
    "    return np.mean(likes == 1), \\\n",
    "        likes.max() / np.sum(likes), \\\n",
    "            shannon_diversity_index(likes), \\\n",
    "                simpson_diversity_index(likes), \\\n",
    "                    np.mean(likes), \\\n",
    "                        np.median(likes)"
   ]
  },
  {
   "cell_type": "code",
   "execution_count": 120,
   "metadata": {},
   "outputs": [
    {
     "data": {
      "text/plain": [
       "(54314, 10)"
      ]
     },
     "execution_count": 120,
     "metadata": {},
     "output_type": "execute_result"
    }
   ],
   "source": [
    "df = pd.read_csv('data_/words_translations.csv')\n",
    "df.shape"
   ]
  },
  {
   "cell_type": "code",
   "execution_count": 121,
   "metadata": {},
   "outputs": [],
   "source": [
    "df = (df.\n",
    "      pipe(lambda df: df[~df['rating'].isna()]).\n",
    "      pipe(lambda df: df[df['rating'] > 0]).\n",
    "      pipe(lambda df: df.assign(translation_created_at=pd.to_datetime(df['translation_created_at']))).\n",
    "      pipe(lambda df: df.assign(word_created_at=pd.to_datetime(df['word_created_at']))).\n",
    "      # create 100 bins (pd.date_rae(start=df['translation_created_at'].min(), end=df['translation_created_at'].max(), periods=epochs))\n",
    "      pipe(lambda df: df.assign(bin=pd.cut(df['translation_created_at'], bins=epochs, labels=range(epochs)))).\n",
    "      pipe(lambda df: df[~df['bin'].isna()]).\n",
    "      pipe(lambda df: df.assign(word_n_words=df['word_body'].str.split().str.len())).\n",
    "      pipe(lambda df: df[df['word_n_words'] == 1]).\n",
    "      pipe(lambda df: df.assign(translation_n_words=df['translation_body'].str.split().str.len())).\n",
    "      # only keep translations with 1 word\n",
    "      pipe(lambda df: df[df['translation_n_words'] == 1]).\n",
    "      # compute lengths in characters for each translation\n",
    "      pipe(lambda df: df.assign(translation_len=df['translation_body'].str.len())).\n",
    "      pipe(lambda df: df.assign(word_len=df['word_body'].str.len())).\n",
    "      pipe(lambda df: df[df['translation_len'] > 1]).\n",
    "      pipe(lambda df: df[df['word_len'] > 1])\n",
    ").dropna()"
   ]
  },
  {
   "cell_type": "code",
   "execution_count": 122,
   "metadata": {},
   "outputs": [],
   "source": [
    "# table with n of unique words and translations per bin\n",
    "df_unique = df.groupby('bin').agg({'word_id': 'nunique', 'translation_id': 'nunique'}).reset_index()\n",
    "df_unique.columns = ['bin', 'n_words', 'n_translations']"
   ]
  },
  {
   "cell_type": "code",
   "execution_count": 123,
   "metadata": {},
   "outputs": [
    {
     "data": {
      "text/plain": [
       "(20, 3)"
      ]
     },
     "execution_count": 123,
     "metadata": {},
     "output_type": "execute_result"
    }
   ],
   "source": [
    "df_unique.shape"
   ]
  },
  {
   "cell_type": "code",
   "execution_count": 124,
   "metadata": {},
   "outputs": [
    {
     "name": "stdout",
     "output_type": "stream",
     "text": [
      "Correlation:  0.38571711596459896\n"
     ]
    },
    {
     "data": {
      "text/plain": [
       "(0.0, 30.0)"
      ]
     },
     "execution_count": 124,
     "metadata": {},
     "output_type": "execute_result"
    },
    {
     "data": {
      "image/png": "[encoded data removed]",
      "text/plain": [
       "<Figure size 700x300 with 1 Axes>"
      ]
     },
     "metadata": {},
     "output_type": "display_data"
    }
   ],
   "source": [
    "plt.figure(figsize=(7, 3))\n",
    "plt.grid(alpha=0.2)\n",
    "plt.scatter(x = df['word_len'], y = df['translation_len'], alpha=1, color = 'blue')\n",
    "plt.xlabel('word length')\n",
    "plt.ylabel('avg. translation length')\n",
    "# print correlation\n",
    "print('Correlation: ', np.corrcoef(df['word_len'], df['translation_len'])[0, 1])\n",
    "plt.xlim(0, 25)\n",
    "plt.ylim(0, 30)"
   ]
  },
  {
   "cell_type": "code",
   "execution_count": 125,
   "metadata": {},
   "outputs": [],
   "source": [
    "votes = pd.read_csv(\"data_/votes.csv\")\n",
    "votes['created_at'] = pd.to_datetime(votes['created_at'])\n",
    "# votes['bin'] = pd.cut(votes['created_at'], bins=epochs, labels=range(epochs))\n",
    "# use datettime from df to create identical bins ('translation_created_at') and label then with range(epochs)\n",
    "votes['bin'] = pd.cut(votes['created_at'], bins=pd.date_range(start=df['translation_created_at'].min(), end=df['translation_created_at'].max(), periods=epochs+1), labels=range(epochs))\n",
    "votes = votes[~votes['bin'].isna()]"
   ]
  },
  {
   "cell_type": "code",
   "execution_count": 126,
   "metadata": {},
   "outputs": [
    {
     "data": {
      "image/png": "[encoded data removed]",
      "text/plain": [
       "<Figure size 700x300 with 1 Axes>"
      ]
     },
     "metadata": {},
     "output_type": "display_data"
    }
   ],
   "source": [
    "fig, ax = plt.subplots(figsize=(7, 3))\n",
    "df_unique.plot(x='bin', y='n_words', ax=ax, label = 'words', linewidth=2)\n",
    "df_unique.plot(x='bin', y='n_translations', ax=ax, label = 'translations', linewidth=2)\n",
    "votes.groupby('bin').agg({'id': 'nunique'}).plot(ax=ax, label = 'votes', linewidth=2)\n",
    "ax.set_yscale('log')\n",
    "plt.xlabel('Time step')\n",
    "plt.ylabel('Count (log-scale)')\n",
    "plt.grid()\n",
    "plt.legend()\n",
    "ax.grid(which='major', color='#DDDDDD', linewidth=0.8)\n",
    "ax.grid(which='minor', color='#EEEEEE', linestyle=':', linewidth=0.5)\n",
    "ax.minorticks_on()\n",
    "plt.show()"
   ]
  },
  {
   "cell_type": "code",
   "execution_count": 127,
   "metadata": {},
   "outputs": [],
   "source": [
    "# votes should have the same translations as df\n",
    "votes = votes[votes['translation_id'].isin(df['translation_id'])]\n",
    "# group by bin and user and count the number of votes\n",
    "votes_ = votes.groupby(['bin', 'user_id']).size().reset_index(name='votes')\n",
    "# for each bin, get the list of values in the column 'votes'\n",
    "votes_ = votes_.query('votes > 0')\n",
    "votes_ = votes_.groupby('bin')['votes'].apply(list).reset_index(name='votes')"
   ]
  },
  {
   "cell_type": "code",
   "execution_count": 128,
   "metadata": {},
   "outputs": [],
   "source": [
    "votes_ = votes_.set_index('bin')['votes'].to_dict()\n",
    "n_words = df_unique['n_words'].to_numpy().round().astype(int)\n",
    "n_translations = df_unique['n_translations'].to_numpy().astype(int)\n",
    "translation_len = df['translation_len'].to_numpy().astype(int)"
   ]
  },
  {
   "cell_type": "code",
   "execution_count": 129,
   "metadata": {},
   "outputs": [],
   "source": [
    "with open('data/n_words.pkl', 'wb') as f:\n",
    "    pickle.dump(n_words, f)\n",
    "\n",
    "with open('data/n_translations.pkl', 'wb') as f:\n",
    "    pickle.dump(n_translations, f)\n",
    "\n",
    "with open('data/votes.pkl', 'wb') as f:\n",
    "    pickle.dump(votes_, f)\n",
    "\n",
    "with open('data/translation_len.pkl', 'wb') as f:\n",
    "    pickle.dump(translation_len, f)"
   ]
  },
  {
   "cell_type": "code",
   "execution_count": 130,
   "metadata": {},
   "outputs": [],
   "source": [
    "class SlovotvirModel:\n",
    "\n",
    "    def __init__(self, \n",
    "                 words_series, \n",
    "                 translation_series, \n",
    "                 length_distr, \n",
    "                 votes_user, \n",
    "                 a, \n",
    "                 b,\n",
    "                 temp):\n",
    "        self.words_series = words_series\n",
    "        self.translation_series = translation_series\n",
    "        self.length_distr = length_distr\n",
    "        self.votes_user = votes_user\n",
    "\n",
    "        self.a = a\n",
    "        self.b = b\n",
    "        self.temp = temp\n",
    "\n",
    "        self.n_epochs = len(self.words_series)\n",
    "\n",
    "        self.word_pool = defaultdict(list)\n",
    "        self.translation_pool = defaultdict(dict)\n",
    "                    \n",
    "    def like_prob(self, \n",
    "                  lengths, \n",
    "                  likes):\n",
    "        probs = (1/lengths) ** self.a + likes ** self.b\n",
    "        return probs / probs.sum()\n",
    "\n",
    "    def process_epoch(self, \n",
    "                      epoch):\n",
    "        n_words = self.words_series[epoch]\n",
    "        n_translations = self.translation_series[epoch]\n",
    "        n_votes = self.votes_user[epoch]\n",
    "\n",
    "        [self.word_pool[np.random.randint(0, 1000000)] for _ in range(n_words)]\n",
    "\n",
    "        unique_words = list(self.word_pool.keys())\n",
    "\n",
    "        for _ in range(n_translations):\n",
    "            word_id = np.random.choice(unique_words)\n",
    "            translation_id = np.random.randint(0, 1000000)\n",
    "            self.word_pool[word_id].append(translation_id)\n",
    "            self.translation_pool[translation_id] = {'length': np.random.choice(self.length_distr), \n",
    "                                                     'likes': 1}\n",
    "\n",
    "        likes_w = np.array([sum([self.translation_pool[translation_id]['likes'] for translation_id in \n",
    "                                 self.word_pool[word_id]]) for word_id in unique_words])\n",
    "\n",
    "        likes_w = adjust_entropy(likes_w / likes_w.sum(), temperature=self.temp)\n",
    "\n",
    "        for n in n_votes:\n",
    "            for _ in range(n):\n",
    "                translations = self.word_pool[np.random.choice(unique_words, p=likes_w)]\n",
    "\n",
    "                while not translations:\n",
    "                    translations = self.word_pool[np.random.choice(unique_words, p=likes_w)]\n",
    "\n",
    "                lengths = np.array([self.translation_pool[translation_id]['length'] \n",
    "                                    for translation_id in translations]).astype(float)\n",
    "                likes = np.array([self.translation_pool[translation_id]['likes'] \n",
    "                                  for translation_id in translations]).astype(float)\n",
    "                \n",
    "                if len(likes) == 1:\n",
    "                    tr = translations[0]\n",
    "                else:\n",
    "                    probs = self.like_prob(min_max_scaling_numpy(lengths), \n",
    "                                           min_max_scaling_numpy(likes))\n",
    "                    tr = np.random.choice(translations, p=probs)\n",
    "                \n",
    "                self.translation_pool[tr]['likes'] += 1\n",
    "\n",
    "    def run(self):\n",
    "        for epoch in tqdm.trange(self.n_epochs, \n",
    "                                 bar_format='{l_bar}{bar:30}{r_bar}{bar:-10b}',\n",
    "                                 desc='Running the model', \n",
    "                                 position=0, \n",
    "                                 leave=True):\n",
    "            self.process_epoch(epoch)"
   ]
  },
  {
   "cell_type": "code",
   "execution_count": 131,
   "metadata": {},
   "outputs": [],
   "source": [
    "def run_model_(a, b, temp, abc = False):\n",
    "    model = SlovotvirModel(n_words,\n",
    "                            n_translations,\n",
    "                            translation_len,\n",
    "                            votes_,\n",
    "                            a=a,\n",
    "                            b=b,\n",
    "                            temp=temp)\n",
    "\n",
    "    model.run()\n",
    "\n",
    "    likes = np.array([model.translation_pool[tr]['likes'] for tr in model.translation_pool.keys()]) \n",
    "    ranked = np.argsort(likes)[::-1]\n",
    "\n",
    "    if abc:\n",
    "        return summary_func(likes)\n",
    "    return likes[ranked]"
   ]
  },
  {
   "cell_type": "code",
   "execution_count": 132,
   "metadata": {},
   "outputs": [],
   "source": [
    "true_likes = df['rating'].to_numpy()\n",
    "true_ranked = np.argsort(true_likes)[::-1]"
   ]
  },
  {
   "cell_type": "code",
   "execution_count": 133,
   "metadata": {},
   "outputs": [
    {
     "data": {
      "text/plain": [
       "(0.32061805890873973,\n",
       " 0.003006273294783502,\n",
       " 2.2647409282566704,\n",
       " 0.17316506921539174,\n",
       " 4.497275298337587,\n",
       " 2.0)"
      ]
     },
     "execution_count": 133,
     "metadata": {},
     "output_type": "execute_result"
    }
   ],
   "source": [
    "summary_func(true_likes)"
   ]
  },
  {
   "cell_type": "code",
   "execution_count": 134,
   "metadata": {},
   "outputs": [
    {
     "data": {
      "application/vnd.jupyter.widget-view+json": {
       "model_id": "8d7b96aee3a946438049093df2af48be",
       "version_major": 2,
       "version_minor": 0
      },
      "text/plain": [
       "Running the model:   0%|                              | 0/20 [00:00<?, ?it/s]"
      ]
     },
     "metadata": {},
     "output_type": "display_data"
    },
    {
     "name": "stdout",
     "output_type": "stream",
     "text": [
      "(0.34571009020348226, 0.001709564664760089, 2.440354848520041, 0.16929574537819173, 5.501363541011118, 2.0)\n"
     ]
    }
   ],
   "source": [
    "print(run_model_(a=0.5, b=0.5, temp=1, abc=True))"
   ]
  },
  {
   "cell_type": "code",
   "execution_count": 135,
   "metadata": {},
   "outputs": [
    {
     "data": {
      "application/vnd.jupyter.widget-view+json": {
       "model_id": "6ab7bc5f726f4414b5fae434748e01c1",
       "version_major": 2,
       "version_minor": 0
      },
      "text/plain": [
       "Running the model:   0%|                              | 0/20 [00:00<?, ?it/s]"
      ]
     },
     "metadata": {},
     "output_type": "display_data"
    },
    {
     "name": "stdout",
     "output_type": "stream",
     "text": [
      "(0.293753929993712, 0.0009141986477478335, 2.502504438601722, 0.14488335802337232, 5.502515195975686, 3.0)\n"
     ]
    }
   ],
   "source": [
    "print(run_model_(a=0, b=0, temp=1, abc=True))"
   ]
  },
  {
   "cell_type": "code",
   "execution_count": 136,
   "metadata": {},
   "outputs": [
    {
     "data": {
      "application/vnd.jupyter.widget-view+json": {
       "model_id": "c1b2be1833ff4e28a934fe21aa1cd728",
       "version_major": 2,
       "version_minor": 0
      },
      "text/plain": [
       "Running the model:   0%|                              | 0/20 [00:00<?, ?it/s]"
      ]
     },
     "metadata": {},
     "output_type": "display_data"
    },
    {
     "name": "stdout",
     "output_type": "stream",
     "text": [
      "(0.25340189596669815, 0.0009023034154090548, 2.5573371605340216, 0.12650410053054126, 5.505124707034666, 3.0)\n"
     ]
    }
   ],
   "source": [
    "print(run_model_(a=5, b=0, temp=1.1, abc=True))"
   ]
  },
  {
   "cell_type": "code",
   "execution_count": 138,
   "metadata": {},
   "outputs": [
    {
     "data": {
      "application/vnd.jupyter.widget-view+json": {
       "model_id": "8ab80399d5d44ba0b69491b585d58743",
       "version_major": 2,
       "version_minor": 0
      },
      "text/plain": [
       "Running the model:   0%|                              | 0/20 [00:00<?, ?it/s]"
      ]
     },
     "metadata": {},
     "output_type": "display_data"
    },
    {
     "data": {
      "application/vnd.jupyter.widget-view+json": {
       "model_id": "fc3ef3519eb8437bb3ff1e52f49500d7",
       "version_major": 2,
       "version_minor": 0
      },
      "text/plain": [
       "Running the model:   0%|                              | 0/20 [00:00<?, ?it/s]"
      ]
     },
     "metadata": {},
     "output_type": "display_data"
    },
    {
     "data": {
      "application/vnd.jupyter.widget-view+json": {
       "model_id": "1472cb19a1774508a78f4d207a411af4",
       "version_major": 2,
       "version_minor": 0
      },
      "text/plain": [
       "Running the model:   0%|                              | 0/20 [00:00<?, ?it/s]"
      ]
     },
     "metadata": {},
     "output_type": "display_data"
    },
    {
     "data": {
      "application/vnd.jupyter.widget-view+json": {
       "model_id": "956c6fb5be9448a18e0b35aaffb6d65e",
       "version_major": 2,
       "version_minor": 0
      },
      "text/plain": [
       "Running the model:   0%|                              | 0/20 [00:00<?, ?it/s]"
      ]
     },
     "metadata": {},
     "output_type": "display_data"
    },
    {
     "data": {
      "application/vnd.jupyter.widget-view+json": {
       "model_id": "ed7bf0d2a51149398165f5fa1447d5fd",
       "version_major": 2,
       "version_minor": 0
      },
      "text/plain": [
       "Running the model:   0%|                              | 0/20 [00:00<?, ?it/s]"
      ]
     },
     "metadata": {},
     "output_type": "display_data"
    },
    {
     "data": {
      "application/vnd.jupyter.widget-view+json": {
       "model_id": "56287ffa5dd14ed68b38b673fc8b6a19",
       "version_major": 2,
       "version_minor": 0
      },
      "text/plain": [
       "Running the model:   0%|                              | 0/20 [00:00<?, ?it/s]"
      ]
     },
     "metadata": {},
     "output_type": "display_data"
    },
    {
     "data": {
      "application/vnd.jupyter.widget-view+json": {
       "model_id": "59a9a6d6466b41ae91acf20695f4b38d",
       "version_major": 2,
       "version_minor": 0
      },
      "text/plain": [
       "Running the model:   0%|                              | 0/20 [00:00<?, ?it/s]"
      ]
     },
     "metadata": {},
     "output_type": "display_data"
    },
    {
     "data": {
      "application/vnd.jupyter.widget-view+json": {
       "model_id": "3aa1b6cadbd84a538c5597597acc9664",
       "version_major": 2,
       "version_minor": 0
      },
      "text/plain": [
       "Running the model:   0%|                              | 0/20 [00:00<?, ?it/s]"
      ]
     },
     "metadata": {},
     "output_type": "display_data"
    },
    {
     "data": {
      "application/vnd.jupyter.widget-view+json": {
       "model_id": "182fdeb4662448448845882f5d21e574",
       "version_major": 2,
       "version_minor": 0
      },
      "text/plain": [
       "Running the model:   0%|                              | 0/20 [00:00<?, ?it/s]"
      ]
     },
     "metadata": {},
     "output_type": "display_data"
    },
    {
     "data": {
      "application/vnd.jupyter.widget-view+json": {
       "model_id": "f883bf86e340471783b626c43df8e8b3",
       "version_major": 2,
       "version_minor": 0
      },
      "text/plain": [
       "Running the model:   0%|                              | 0/20 [00:00<?, ?it/s]"
      ]
     },
     "metadata": {},
     "output_type": "display_data"
    }
   ],
   "source": [
    "runs = []\n",
    "for _ in range(10):\n",
    "    runs.append(run_model_(a=10, b=0, temp=1))"
   ]
  },
  {
   "cell_type": "code",
   "execution_count": 139,
   "metadata": {},
   "outputs": [
    {
     "data": {
      "application/vnd.jupyter.widget-view+json": {
       "model_id": "b2fd4a5dd6c240029aa85ac6f94916e6",
       "version_major": 2,
       "version_minor": 0
      },
      "text/plain": [
       "Running the model:   0%|                              | 0/20 [00:00<?, ?it/s]"
      ]
     },
     "metadata": {},
     "output_type": "display_data"
    },
    {
     "data": {
      "application/vnd.jupyter.widget-view+json": {
       "model_id": "304c246c66be49519c258ce4f06a149e",
       "version_major": 2,
       "version_minor": 0
      },
      "text/plain": [
       "Running the model:   0%|                              | 0/20 [00:00<?, ?it/s]"
      ]
     },
     "metadata": {},
     "output_type": "display_data"
    },
    {
     "data": {
      "application/vnd.jupyter.widget-view+json": {
       "model_id": "0fa00ff9941d48c8b82f0aefbcee935c",
       "version_major": 2,
       "version_minor": 0
      },
      "text/plain": [
       "Running the model:   0%|                              | 0/20 [00:00<?, ?it/s]"
      ]
     },
     "metadata": {},
     "output_type": "display_data"
    },
    {
     "data": {
      "application/vnd.jupyter.widget-view+json": {
       "model_id": "c786e5eb39a445b2b2b40ba3707f095b",
       "version_major": 2,
       "version_minor": 0
      },
      "text/plain": [
       "Running the model:   0%|                              | 0/20 [00:00<?, ?it/s]"
      ]
     },
     "metadata": {},
     "output_type": "display_data"
    },
    {
     "data": {
      "application/vnd.jupyter.widget-view+json": {
       "model_id": "8cd077eac63047e5920f7d0cb55ebed1",
       "version_major": 2,
       "version_minor": 0
      },
      "text/plain": [
       "Running the model:   0%|                              | 0/20 [00:00<?, ?it/s]"
      ]
     },
     "metadata": {},
     "output_type": "display_data"
    },
    {
     "data": {
      "application/vnd.jupyter.widget-view+json": {
       "model_id": "f4dc08494c9b4686b5401c201a02cd25",
       "version_major": 2,
       "version_minor": 0
      },
      "text/plain": [
       "Running the model:   0%|                              | 0/20 [00:00<?, ?it/s]"
      ]
     },
     "metadata": {},
     "output_type": "display_data"
    },
    {
     "data": {
      "application/vnd.jupyter.widget-view+json": {
       "model_id": "e042072a159e4dc4801b41099e601ac6",
       "version_major": 2,
       "version_minor": 0
      },
      "text/plain": [
       "Running the model:   0%|                              | 0/20 [00:00<?, ?it/s]"
      ]
     },
     "metadata": {},
     "output_type": "display_data"
    },
    {
     "data": {
      "application/vnd.jupyter.widget-view+json": {
       "model_id": "e611e3ccbc2649c39ca7a8640ca6fbaa",
       "version_major": 2,
       "version_minor": 0
      },
      "text/plain": [
       "Running the model:   0%|                              | 0/20 [00:00<?, ?it/s]"
      ]
     },
     "metadata": {},
     "output_type": "display_data"
    },
    {
     "data": {
      "application/vnd.jupyter.widget-view+json": {
       "model_id": "f70d8ed2262e40fd95c813152f441a0e",
       "version_major": 2,
       "version_minor": 0
      },
      "text/plain": [
       "Running the model:   0%|                              | 0/20 [00:00<?, ?it/s]"
      ]
     },
     "metadata": {},
     "output_type": "display_data"
    },
    {
     "data": {
      "application/vnd.jupyter.widget-view+json": {
       "model_id": "b500f4c0c16f4d74910e2df3364fcbd1",
       "version_major": 2,
       "version_minor": 0
      },
      "text/plain": [
       "Running the model:   0%|                              | 0/20 [00:00<?, ?it/s]"
      ]
     },
     "metadata": {},
     "output_type": "display_data"
    }
   ],
   "source": [
    "# frequency bias\n",
    "\n",
    "runs_ = []\n",
    "for _ in range(10):\n",
    "    runs_.append(run_model_(a=0, b=10, temp=1))"
   ]
  },
  {
   "cell_type": "code",
   "execution_count": 140,
   "metadata": {},
   "outputs": [
    {
     "data": {
      "application/vnd.jupyter.widget-view+json": {
       "model_id": "4313fe73e02649ee9c566a1f42212138",
       "version_major": 2,
       "version_minor": 0
      },
      "text/plain": [
       "Running the model:   0%|                              | 0/20 [00:00<?, ?it/s]"
      ]
     },
     "metadata": {},
     "output_type": "display_data"
    },
    {
     "data": {
      "application/vnd.jupyter.widget-view+json": {
       "model_id": "b58a4f95ccc54f04b8e7aed28aaf8a39",
       "version_major": 2,
       "version_minor": 0
      },
      "text/plain": [
       "Running the model:   0%|                              | 0/20 [00:00<?, ?it/s]"
      ]
     },
     "metadata": {},
     "output_type": "display_data"
    },
    {
     "data": {
      "application/vnd.jupyter.widget-view+json": {
       "model_id": "1266396e192644c5807510d38f60207d",
       "version_major": 2,
       "version_minor": 0
      },
      "text/plain": [
       "Running the model:   0%|                              | 0/20 [00:00<?, ?it/s]"
      ]
     },
     "metadata": {},
     "output_type": "display_data"
    },
    {
     "data": {
      "application/vnd.jupyter.widget-view+json": {
       "model_id": "e0d499435b44435bbf3a50e1ad98fce9",
       "version_major": 2,
       "version_minor": 0
      },
      "text/plain": [
       "Running the model:   0%|                              | 0/20 [00:00<?, ?it/s]"
      ]
     },
     "metadata": {},
     "output_type": "display_data"
    },
    {
     "data": {
      "application/vnd.jupyter.widget-view+json": {
       "model_id": "51e51bcf6bb441f883bbfd674076509d",
       "version_major": 2,
       "version_minor": 0
      },
      "text/plain": [
       "Running the model:   0%|                              | 0/20 [00:00<?, ?it/s]"
      ]
     },
     "metadata": {},
     "output_type": "display_data"
    },
    {
     "data": {
      "application/vnd.jupyter.widget-view+json": {
       "model_id": "d2c5bb23253540aab40881155624df12",
       "version_major": 2,
       "version_minor": 0
      },
      "text/plain": [
       "Running the model:   0%|                              | 0/20 [00:00<?, ?it/s]"
      ]
     },
     "metadata": {},
     "output_type": "display_data"
    },
    {
     "data": {
      "application/vnd.jupyter.widget-view+json": {
       "model_id": "7575b3ab46d04c8687855f1b68f072af",
       "version_major": 2,
       "version_minor": 0
      },
      "text/plain": [
       "Running the model:   0%|                              | 0/20 [00:00<?, ?it/s]"
      ]
     },
     "metadata": {},
     "output_type": "display_data"
    },
    {
     "data": {
      "application/vnd.jupyter.widget-view+json": {
       "model_id": "adf30254d0d043e88851b7b4dacdd1ff",
       "version_major": 2,
       "version_minor": 0
      },
      "text/plain": [
       "Running the model:   0%|                              | 0/20 [00:00<?, ?it/s]"
      ]
     },
     "metadata": {},
     "output_type": "display_data"
    },
    {
     "data": {
      "application/vnd.jupyter.widget-view+json": {
       "model_id": "a3e44ee0fd8249deacaeb981ecf12369",
       "version_major": 2,
       "version_minor": 0
      },
      "text/plain": [
       "Running the model:   0%|                              | 0/20 [00:00<?, ?it/s]"
      ]
     },
     "metadata": {},
     "output_type": "display_data"
    },
    {
     "data": {
      "application/vnd.jupyter.widget-view+json": {
       "model_id": "621866207a6641bdb6100ccdda7e0f05",
       "version_major": 2,
       "version_minor": 0
      },
      "text/plain": [
       "Running the model:   0%|                              | 0/20 [00:00<?, ?it/s]"
      ]
     },
     "metadata": {},
     "output_type": "display_data"
    }
   ],
   "source": [
    "# unbiased\n",
    "\n",
    "runs_u = []\n",
    "for _ in range(10):\n",
    "    runs_u.append(run_model_(a=0, b=0, temp=1))"
   ]
  },
  {
   "cell_type": "code",
   "execution_count": 155,
   "metadata": {},
   "outputs": [
    {
     "data": {
      "application/vnd.jupyter.widget-view+json": {
       "model_id": "3d3fa12fd3ef4ea28c34a98492cb7220",
       "version_major": 2,
       "version_minor": 0
      },
      "text/plain": [
       "Running the model:   0%|                              | 0/20 [00:00<?, ?it/s]"
      ]
     },
     "metadata": {},
     "output_type": "display_data"
    },
    {
     "data": {
      "application/vnd.jupyter.widget-view+json": {
       "model_id": "491a0eef7f614fc1b12876b472c40194",
       "version_major": 2,
       "version_minor": 0
      },
      "text/plain": [
       "Running the model:   0%|                              | 0/20 [00:00<?, ?it/s]"
      ]
     },
     "metadata": {},
     "output_type": "display_data"
    },
    {
     "data": {
      "application/vnd.jupyter.widget-view+json": {
       "model_id": "da267177532d4af99cb50cafd5043114",
       "version_major": 2,
       "version_minor": 0
      },
      "text/plain": [
       "Running the model:   0%|                              | 0/20 [00:00<?, ?it/s]"
      ]
     },
     "metadata": {},
     "output_type": "display_data"
    },
    {
     "data": {
      "application/vnd.jupyter.widget-view+json": {
       "model_id": "97667e5fe1e64d69b0fad96ae6052849",
       "version_major": 2,
       "version_minor": 0
      },
      "text/plain": [
       "Running the model:   0%|                              | 0/20 [00:00<?, ?it/s]"
      ]
     },
     "metadata": {},
     "output_type": "display_data"
    },
    {
     "data": {
      "application/vnd.jupyter.widget-view+json": {
       "model_id": "fbe983efea3e4e62bc973bf472f22d40",
       "version_major": 2,
       "version_minor": 0
      },
      "text/plain": [
       "Running the model:   0%|                              | 0/20 [00:00<?, ?it/s]"
      ]
     },
     "metadata": {},
     "output_type": "display_data"
    },
    {
     "data": {
      "application/vnd.jupyter.widget-view+json": {
       "model_id": "72323110b3a146a7a20993a6dd4d65a9",
       "version_major": 2,
       "version_minor": 0
      },
      "text/plain": [
       "Running the model:   0%|                              | 0/20 [00:00<?, ?it/s]"
      ]
     },
     "metadata": {},
     "output_type": "display_data"
    },
    {
     "data": {
      "application/vnd.jupyter.widget-view+json": {
       "model_id": "8717d9a7dcfa4e6faf2a75ffbb0659d0",
       "version_major": 2,
       "version_minor": 0
      },
      "text/plain": [
       "Running the model:   0%|                              | 0/20 [00:00<?, ?it/s]"
      ]
     },
     "metadata": {},
     "output_type": "display_data"
    },
    {
     "data": {
      "application/vnd.jupyter.widget-view+json": {
       "model_id": "d3fc98d5c8ab4872aff2c18f1b80b5e9",
       "version_major": 2,
       "version_minor": 0
      },
      "text/plain": [
       "Running the model:   0%|                              | 0/20 [00:00<?, ?it/s]"
      ]
     },
     "metadata": {},
     "output_type": "display_data"
    },
    {
     "data": {
      "application/vnd.jupyter.widget-view+json": {
       "model_id": "ddda93c0bc754196b671d82ee6b21776",
       "version_major": 2,
       "version_minor": 0
      },
      "text/plain": [
       "Running the model:   0%|                              | 0/20 [00:00<?, ?it/s]"
      ]
     },
     "metadata": {},
     "output_type": "display_data"
    },
    {
     "data": {
      "application/vnd.jupyter.widget-view+json": {
       "model_id": "c3cf2a4064a1405a8ba26c583389d097",
       "version_major": 2,
       "version_minor": 0
      },
      "text/plain": [
       "Running the model:   0%|                              | 0/20 [00:00<?, ?it/s]"
      ]
     },
     "metadata": {},
     "output_type": "display_data"
    }
   ],
   "source": [
    "# unbiased\n",
    "\n",
    "runs_u = []\n",
    "for _ in range(10):\n",
    "    runs_u.append(run_model_(a=0, b=0, temp=10))"
   ]
  },
  {
   "cell_type": "code",
   "execution_count": 161,
   "metadata": {},
   "outputs": [
    {
     "data": {
      "image/png": "[encoded data removed]",
      "text/plain": [
       "<Figure size 700x300 with 1 Axes>"
      ]
     },
     "metadata": {},
     "output_type": "display_data"
    }
   ],
   "source": [
    "# plot runs\n",
    "fig, ax = plt.subplots(figsize=(7, 3))\n",
    "for run in runs:\n",
    "    ax.plot(range(len(run)), run, color='red', alpha=0.5, label = 'content bias', linewidth=0.5)\n",
    "for run in runs_:\n",
    "    ax.plot(range(len(run)), run, color='blue', alpha=0.5, label = 'frequency bias', linewidth=0.5)\n",
    "for run in runs_u:\n",
    "    ax.plot(range(len(run)), run, color='orange', alpha=0.5, label = 'unbiased', linewidth=0.5)\n",
    "ax.plot(range(len(true_likes[true_ranked])), true_likes[true_ranked], \n",
    "        color='black', label='true', alpha = 1, linewidth=2)\n",
    "ax.set_xlabel('rank')\n",
    "ax.set_ylabel('likes')\n",
    "ax.set_yscale('log')\n",
    "ax.yaxis.set_major_formatter(mticker.ScalarFormatter())\n",
    "handles, labels = plt.gca().get_legend_handles_labels()\n",
    "by_label = dict(zip(labels, handles))\n",
    "plt.legend(by_label.values(), by_label.keys())\n",
    "ax.set_xscale('log')\n",
    "ax.grid(which='major', color='#DDDDDD', linewidth=0.8)\n",
    "ax.grid(which='minor', color='#EEEEEE', linestyle=':', linewidth=0.5)\n",
    "ax.minorticks_on()\n",
    "plt.show()"
   ]
  },
  {
   "cell_type": "code",
   "execution_count": 162,
   "metadata": {},
   "outputs": [],
   "source": [
    "def plot_rank_segment(runs, runs_, low, high):\n",
    "    fig, ax = plt.subplots(figsize=(7, 3))\n",
    "    for run in runs:\n",
    "        ax.plot(range(low, high), run[low:high], color='red', alpha=0.5, label='content bias')\n",
    "    for run in runs_:\n",
    "        ax.plot(range(low, high), run[low:high], color='blue', alpha=0.5, label='frequency bias')\n",
    "    for run in runs_u:\n",
    "        ax.plot(range(low, high), run[low:high], color='orange', alpha=0.5, label='unbiased')\n",
    "    ax.set_xlabel('rank')\n",
    "    ax.set_ylabel('likes')\n",
    "    ax.grid(which='major', color='#DDDDDD', linewidth=0.8)\n",
    "    ax.grid(which='minor', color='#EEEEEE', linestyle=':', linewidth=0.5)\n",
    "    ax.minorticks_on()\n",
    "    plt.show()"
   ]
  },
  {
   "cell_type": "code",
   "execution_count": 163,
   "metadata": {},
   "outputs": [
    {
     "data": {
      "image/png": "[encoded data removed]",
      "text/plain": [
       "<Figure size 700x300 with 1 Axes>"
      ]
     },
     "metadata": {},
     "output_type": "display_data"
    }
   ],
   "source": [
    "plot_rank_segment(runs, runs_, 100, 5000)"
   ]
  }
 ],
 "metadata": {
  "kernelspec": {
   "display_name": "Python 3",
   "language": "python",
   "name": "python3"
  },
  "language_info": {
   "codemirror_mode": {
    "name": "ipython",
    "version": 3
   },
   "file_extension": ".py",
   "mimetype": "text/x-python",
   "name": "python",
   "nbconvert_exporter": "python",
   "pygments_lexer": "ipython3",
   "version": "3.10.11"
  },
  "orig_nbformat": 4
 },
 "nbformat": 4,
 "nbformat_minor": 2
}
