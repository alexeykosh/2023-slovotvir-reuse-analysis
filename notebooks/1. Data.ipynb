{
 "cells": [
  {
   "cell_type": "code",
   "execution_count": 1,
   "metadata": {},
   "outputs": [
    {
     "name": "stderr",
     "output_type": "stream",
     "text": [
      "/opt/homebrew/lib/python3.11/site-packages/bayesflow/trainers.py:27: TqdmExperimentalWarning: Using `tqdm.autonotebook.tqdm` in notebook mode. Use `tqdm.tqdm` instead to force console mode (e.g. in jupyter console)\n",
      "  from tqdm.autonotebook import tqdm\n"
     ]
    }
   ],
   "source": [
    "import sys\n",
    "sys.path.append('../')\n",
    "\n",
    "import numpy as np\n",
    "import pandas as pd\n",
    "import seaborn as sns\n",
    "import matplotlib.pyplot as plt\n",
    "import pickle\n",
    "\n",
    "from src.helpers import (letter_subplots)\n",
    "\n",
    "sns.set(context='paper', \n",
    "        style='ticks', \n",
    "        font_scale=1.2,\n",
    "        rc={'axes.spines.right': False, \n",
    "            'axes.spines.top': False,})"
   ]
  },
  {
   "cell_type": "markdown",
   "metadata": {},
   "source": [
    "### 1. Data Preprocessing"
   ]
  },
  {
   "cell_type": "code",
   "execution_count": 2,
   "metadata": {},
   "outputs": [],
   "source": [
    "epochs = 30 # data partition (important for the dataset construction)"
   ]
  },
  {
   "cell_type": "code",
   "execution_count": 3,
   "metadata": {},
   "outputs": [
    {
     "data": {
      "text/plain": [
       "(54314, 10)"
      ]
     },
     "execution_count": 3,
     "metadata": {},
     "output_type": "execute_result"
    }
   ],
   "source": [
    "df = pd.read_csv('../data/words_translations.csv')\n",
    "df.shape"
   ]
  },
  {
   "cell_type": "code",
   "execution_count": 4,
   "metadata": {},
   "outputs": [
    {
     "data": {
      "text/plain": [
       "9077"
      ]
     },
     "execution_count": 4,
     "metadata": {},
     "output_type": "execute_result"
    }
   ],
   "source": [
    "df['word_id'].nunique()"
   ]
  },
  {
   "cell_type": "code",
   "execution_count": 5,
   "metadata": {},
   "outputs": [],
   "source": [
    "df = (df.\n",
    "      pipe(lambda df: df[~df['rating'].isna()]). # rating is not null\n",
    "      pipe(lambda df: df[df['rating'] >= 0]). # rating is higher or equal to 0\n",
    "      pipe(lambda df: df.assign(translation_created_at=pd.to_datetime(df['translation_created_at']))). # assign translation creation time\n",
    "      pipe(lambda df: df.assign(word_created_at=pd.to_datetime(df['word_created_at']))). # assign word creation time\n",
    "      # create 100 bins (pd.date_rae(start=df['translation_created_at'].min(), end=df['translation_created_at'].max(), periods=epochs))\n",
    "      pipe(lambda df: df.assign(bin=pd.cut(df['translation_created_at'], bins=epochs, labels=range(epochs)))). # cut into 30 bins\n",
    "      pipe(lambda df: df[~df['bin'].isna()]). # check that the bin variable is not na\n",
    "      pipe(lambda df: df.assign(word_n_words=df['word_body'].str.split().str.len())). # \n",
    "      pipe(lambda df: df[df['word_n_words'] == 1]).\n",
    "      pipe(lambda df: df.assign(translation_n_words=df['translation_body'].str.split().str.len())).\n",
    "      # only keep translations with 1 word\n",
    "      pipe(lambda df: df[df['translation_n_words'] == 1]).\n",
    "      # compute lengths in characters for each translation\n",
    "      pipe(lambda df: df.assign(translation_len=df['translation_body'].str.len())).\n",
    "      pipe(lambda df: df.assign(word_len=df['word_body'].str.len())).\n",
    "      pipe(lambda df: df[df['translation_len'] > 1]).\n",
    "      pipe(lambda df: df[df['word_len'] > 1])\n",
    ").dropna()"
   ]
  },
  {
   "cell_type": "code",
   "execution_count": 6,
   "metadata": {},
   "outputs": [],
   "source": [
    "# save as cleaned\n",
    "df.to_csv('../data/words_translations_cleaned.csv', index=False)"
   ]
  },
  {
   "cell_type": "code",
   "execution_count": 7,
   "metadata": {},
   "outputs": [
    {
     "data": {
      "text/plain": [
       "9.131506849315068"
      ]
     },
     "execution_count": 7,
     "metadata": {},
     "output_type": "execute_result"
    }
   ],
   "source": [
    "(df['translation_created_at'].max() - df['translation_created_at'].min()).days / 365"
   ]
  },
  {
   "cell_type": "code",
   "execution_count": 8,
   "metadata": {},
   "outputs": [
    {
     "data": {
      "text/plain": [
       "Timedelta('111 days 03:08:07.171878834')"
      ]
     },
     "execution_count": 8,
     "metadata": {},
     "output_type": "execute_result"
    }
   ],
   "source": [
    "(df['translation_created_at'].max() - df['translation_created_at'].min())/30"
   ]
  },
  {
   "cell_type": "code",
   "execution_count": 9,
   "metadata": {},
   "outputs": [
    {
     "data": {
      "text/plain": [
       "Timestamp('2014-04-29 15:22:24.301251')"
      ]
     },
     "execution_count": 9,
     "metadata": {},
     "output_type": "execute_result"
    }
   ],
   "source": [
    "df['translation_created_at'].min()"
   ]
  },
  {
   "cell_type": "code",
   "execution_count": 10,
   "metadata": {},
   "outputs": [
    {
     "data": {
      "text/plain": [
       "Timestamp('2023-06-15 13:25:59.457616')"
      ]
     },
     "execution_count": 10,
     "metadata": {},
     "output_type": "execute_result"
    }
   ],
   "source": [
    "df['translation_created_at'].max()"
   ]
  },
  {
   "cell_type": "code",
   "execution_count": 11,
   "metadata": {},
   "outputs": [
    {
     "data": {
      "text/plain": [
       "130394.0"
      ]
     },
     "execution_count": 11,
     "metadata": {},
     "output_type": "execute_result"
    }
   ],
   "source": [
    "df['rating'].sum()"
   ]
  },
  {
   "cell_type": "code",
   "execution_count": 12,
   "metadata": {},
   "outputs": [],
   "source": [
    "votes = pd.read_csv(\"../data/votes.csv\")\n",
    "votes['created_at'] = pd.to_datetime(votes['created_at'])\n",
    "# votes['bin'] = pd.cut(votes['created_at'], bins=epochs, labels=range(epochs))\n",
    "# use datettime from df to create identical bins ('translation_created_at') and label then with range(epochs)\n",
    "votes['bin'] = pd.cut(votes['created_at'], bins=pd.date_range(start=df['translation_created_at'].min(), \n",
    "                                                              end=df['translation_created_at'].max(), \n",
    "                                                              periods=epochs+1), labels=range(epochs))\n",
    "votes = votes[~votes['bin'].isna()]"
   ]
  },
  {
   "cell_type": "code",
   "execution_count": 13,
   "metadata": {},
   "outputs": [
    {
     "name": "stdout",
     "output_type": "stream",
     "text": [
      "4700\n"
     ]
    }
   ],
   "source": [
    "# votes should have the same translations as df\n",
    "votes = votes[votes['translation_id'].isin(df['translation_id'])]\n",
    "print(votes['user_id'].unique().shape[0])\n",
    "# group by bin and user and count the number of votes\n",
    "votes_ = votes.groupby(['bin', 'user_id']).size().reset_index(name='votes')\n",
    "# for each bin, get the list of values in the column 'votes'\n",
    "votes_ = votes_.query('votes > 0')\n",
    "votes_ = votes_.groupby('bin')['votes'].apply(list).reset_index(name='votes')"
   ]
  },
  {
   "cell_type": "code",
   "execution_count": 14,
   "metadata": {},
   "outputs": [],
   "source": [
    "# Initialize a set to track seen word_ids\n",
    "seen_word_ids = set()\n",
    "\n",
    "# Create a new column to count truly unique words per bin\n",
    "df['truly_unique_words'] = 0\n",
    "\n",
    "# Iterate through the bins in order\n",
    "for bin_name in sorted(df['bin'].unique()):\n",
    "    # Get the rows corresponding to the current bin\n",
    "    current_bin = df[df['bin'] == bin_name]\n",
    "    \n",
    "    # Identify new unique words in this bin\n",
    "    new_unique_words = set(current_bin['word_id']) - seen_word_ids\n",
    "    \n",
    "    # Update the seen_word_ids set\n",
    "    seen_word_ids.update(new_unique_words)\n",
    "    \n",
    "    # Count the truly unique words for this bin\n",
    "    df.loc[df['bin'] == bin_name, 'truly_unique_words'] = len(new_unique_words)\n",
    "\n",
    "# Now aggregate to get the desired DataFrame\n",
    "df_unique = df.groupby('bin').agg({\n",
    "    'truly_unique_words': 'max', \n",
    "    'translation_id': 'nunique'\n",
    "}).reset_index()\n",
    "\n",
    "df_unique.columns = ['bin', 'n_words', 'n_translations']"
   ]
  },
  {
   "cell_type": "code",
   "execution_count": 15,
   "metadata": {},
   "outputs": [
    {
     "data": {
      "text/plain": [
       "7606"
      ]
     },
     "execution_count": 15,
     "metadata": {},
     "output_type": "execute_result"
    }
   ],
   "source": [
    "df_unique['n_words'].sum()"
   ]
  },
  {
   "cell_type": "code",
   "execution_count": 16,
   "metadata": {},
   "outputs": [],
   "source": [
    "votes_ = votes_.set_index('bin')['votes'].to_dict()\n",
    "n_words = df_unique['n_words'].to_numpy().round().astype(int)\n",
    "n_translations = df_unique['n_translations'].to_numpy().astype(int)\n",
    "translation_len = df['translation_len'].to_numpy().astype(int)"
   ]
  },
  {
   "cell_type": "code",
   "execution_count": 17,
   "metadata": {},
   "outputs": [],
   "source": [
    "with open('../data/n_words.pkl', 'wb') as f:\n",
    "    pickle.dump(n_words, f)\n",
    "\n",
    "with open('../data/n_translations.pkl', 'wb') as f:\n",
    "    pickle.dump(n_translations, f)\n",
    "\n",
    "with open('../data/votes.pkl', 'wb') as f:\n",
    "    pickle.dump(votes_, f)\n",
    "\n",
    "with open('../data/translation_len.pkl', 'wb') as f:\n",
    "    pickle.dump(translation_len, f)"
   ]
  },
  {
   "cell_type": "code",
   "execution_count": 18,
   "metadata": {},
   "outputs": [
    {
     "data": {
      "text/plain": [
       "42044"
      ]
     },
     "execution_count": 18,
     "metadata": {},
     "output_type": "execute_result"
    }
   ],
   "source": [
    "n_translations.sum()"
   ]
  },
  {
   "cell_type": "code",
   "execution_count": 19,
   "metadata": {},
   "outputs": [
    {
     "data": {
      "text/plain": [
       "7606"
      ]
     },
     "execution_count": 19,
     "metadata": {},
     "output_type": "execute_result"
    }
   ],
   "source": [
    "n_words.sum()"
   ]
  },
  {
   "cell_type": "code",
   "execution_count": 20,
   "metadata": {},
   "outputs": [
    {
     "data": {
      "text/plain": [
       "7606"
      ]
     },
     "execution_count": 20,
     "metadata": {},
     "output_type": "execute_result"
    }
   ],
   "source": [
    "df['word_id'].nunique()"
   ]
  },
  {
   "cell_type": "code",
   "execution_count": 21,
   "metadata": {},
   "outputs": [
    {
     "data": {
      "text/plain": [
       "42044"
      ]
     },
     "execution_count": 21,
     "metadata": {},
     "output_type": "execute_result"
    }
   ],
   "source": [
    "df['translation_id'].nunique()"
   ]
  },
  {
   "cell_type": "code",
   "execution_count": 22,
   "metadata": {},
   "outputs": [
    {
     "data": {
      "text/plain": [
       "5.527741256902446"
      ]
     },
     "execution_count": 22,
     "metadata": {},
     "output_type": "execute_result"
    }
   ],
   "source": [
    "df['translation_id'].nunique() / df['word_id'].nunique()"
   ]
  },
  {
   "cell_type": "code",
   "execution_count": 23,
   "metadata": {},
   "outputs": [],
   "source": [
    "# true_likes = df['rating'].to_numpy()\n",
    "true_likes = votes.groupby('translation_id').count()['id'].values\n",
    "true_ranked = np.argsort(true_likes)[::-1]\n",
    "true_likes = true_likes[true_ranked]"
   ]
  },
  {
   "cell_type": "code",
   "execution_count": 24,
   "metadata": {},
   "outputs": [
    {
     "data": {
      "text/plain": [
       "129974"
      ]
     },
     "execution_count": 24,
     "metadata": {},
     "output_type": "execute_result"
    }
   ],
   "source": [
    "true_likes.sum()"
   ]
  },
  {
   "cell_type": "code",
   "execution_count": 25,
   "metadata": {},
   "outputs": [
    {
     "data": {
      "text/plain": [
       "(42044,)"
      ]
     },
     "execution_count": 25,
     "metadata": {},
     "output_type": "execute_result"
    }
   ],
   "source": [
    "# add zeros so that the length of true_likes is (number of unique translations)\n",
    "true_likes = np.concatenate([true_likes, np.zeros(df_unique['n_translations'].sum() - len(true_likes))])\n",
    "true_likes.shape"
   ]
  },
  {
   "cell_type": "code",
   "execution_count": 26,
   "metadata": {},
   "outputs": [],
   "source": [
    "# dump true_likes\n",
    "with open('../data/true_likes.pkl', 'wb') as f:\n",
    "    pickle.dump(true_likes, f)"
   ]
  },
  {
   "cell_type": "code",
   "execution_count": 27,
   "metadata": {},
   "outputs": [
    {
     "data": {
      "text/plain": [
       "(42044, 2)"
      ]
     },
     "execution_count": 27,
     "metadata": {},
     "output_type": "execute_result"
    }
   ],
   "source": [
    "# in df, for each word_if find the word with the maximum rating\n",
    "# true_len_likes = df.sort_values('rating', ascending=False).drop_duplicates('word_id')[['translation_len', 'rating']].values\n",
    "# just get the rating and lengths for every translation\n",
    "true_len_likes = df[['translation_len', 'rating']].values\n",
    "# sort by number of likes\n",
    "true_len_likes = true_len_likes[np.argsort(true_len_likes[:, 1])[::-1]]\n",
    "true_len_likes.shape"
   ]
  },
  {
   "cell_type": "code",
   "execution_count": 28,
   "metadata": {},
   "outputs": [],
   "source": [
    "# dump true_likes\n",
    "with open('../data/true_len_likes.pkl', 'wb') as f:\n",
    "    pickle.dump(true_len_likes, f)"
   ]
  },
  {
   "cell_type": "code",
   "execution_count": 29,
   "metadata": {},
   "outputs": [],
   "source": [
    "votes_count = np.array([sum(v) for v in votes_.values()])"
   ]
  },
  {
   "cell_type": "markdown",
   "metadata": {},
   "source": [
    "### 2. Summary figure"
   ]
  },
  {
   "cell_type": "code",
   "execution_count": 30,
   "metadata": {},
   "outputs": [
    {
     "data": {
      "image/png": "[encoded data removed]",
      "text/plain": [
       "<Figure size 1000x600 with 5 Axes>"
      ]
     },
     "metadata": {},
     "output_type": "display_data"
    }
   ],
   "source": [
    "# Create a figure with a 2x2 grid where the bottom subplot spans both columns\n",
    "fig, axs = plt.subplots(2, 2, figsize=(10, 6), gridspec_kw={'height_ratios': [1, 1], 'width_ratios': [1, 1], 'hspace': 0.3})\n",
    "\n",
    "# apply tuft style for all subplots\n",
    "\n",
    "# for ax in axs.flatten():\n",
    "#     tufte_style(ax)\n",
    "\n",
    "letter_subplots(yoffset=1.1, letters=['A', 'B', 'C'])\n",
    "\n",
    "# First subplot: Histogram with mean and median\n",
    "axs[0, 0].hist(translation_len, bins=30, density=True)\n",
    "axs[0, 0].text(0.95, 0.95, f'Mean: {np.mean(translation_len):.2f}', \n",
    "               horizontalalignment='right', verticalalignment='top', transform=axs[0, 0].transAxes)\n",
    "axs[0, 0].text(0.95, 0.88, f'Std: {np.std(translation_len):.2f}', \n",
    "               horizontalalignment='right', verticalalignment='top', transform=axs[0, 0].transAxes)\n",
    "axs[0, 0].set_xlabel('Translation length (characters)')\n",
    "axs[0, 0].set_ylabel('Density')\n",
    "sns.despine(ax=axs[0, 0])\n",
    "\n",
    "# Second subplot: Histogram with log-scale y-axis\n",
    "axs[0, 1].hist(true_likes, bins=30)\n",
    "axs[0, 1].set_yscale('symlog', base=10)\n",
    "# add mean and median to the plot\n",
    "axs[0, 1].text(0.95, 0.95, f'Mean: {np.mean(true_likes):.2f}', \n",
    "               horizontalalignment='right', verticalalignment='top', transform=axs[0, 1].transAxes)\n",
    "axs[0, 1].text(0.95, 0.88, f'Std: {np.std(true_likes):.2f}',\n",
    "                horizontalalignment='right', verticalalignment='top', transform=axs[0, 1].transAxes)\n",
    "sns.despine(ax=axs[0, 1])\n",
    "axs[0, 1].set_xlabel('Number of likes')\n",
    "axs[0, 1].set_ylabel('Count (log scale)')\n",
    "# set xlim to 0\n",
    "axs[0, 1].set_xlim(0, None)\n",
    "\n",
    "# remove ticks and axes from the bottom plots\n",
    "axs[1, 0].axis('off')\n",
    "axs[1, 1].axis('off')\n",
    "# reduce the gap between the top and bottom plots\n",
    "plt.subplots_adjust(hspace=0.15)\n",
    "\n",
    "# Third subplot: Cumulative number of words, translations, and votes spanning the bottom row\n",
    "ax_bottom = fig.add_subplot(212)  # Use the entire bottom row\n",
    "\n",
    "# tufte_style(ax_bottom)\n",
    "\n",
    "ax_bottom.plot(df_unique['bin'], df_unique['n_words'].cumsum(), \n",
    "               label='Words', marker='o', markersize=5, color='b', alpha=1)\n",
    "ax_bottom.plot(df_unique['bin'], df_unique['n_translations'].cumsum(), \n",
    "               label='Translations', marker='o', markersize=5, color='r', alpha=1)\n",
    "ax_bottom.plot(df_unique['bin'], votes_count.cumsum(), \n",
    "               label='Likes',  marker='o', markersize=5, color='g', alpha=1)\n",
    "ax_bottom.legend(frameon=False)\n",
    "ax_bottom.set_xlabel('Time step')\n",
    "ax_bottom.set_ylabel('Cumulative count')\n",
    "# ax_bottom.set_xticks(range(0, 30, 4))\n",
    "# ticks from 0 to 29 so that 29 is included\n",
    "ax_bottom.set_xticks(sorted([0] + list(range(29, 0, -6))))\n",
    "# Generate formatted labels for each tick, based on the translation_created_at range\n",
    "labels = pd.date_range(start=df['translation_created_at'].min(), \n",
    "                       end=df['translation_created_at'].max(), \n",
    "                       periods=len(ax_bottom.get_xticks())).strftime('%m.%d.%Y')\n",
    "ax_bottom.set_xticklabels(labels, rotation=0, ha='center')\n",
    "# set ylim to 0\n",
    "ax_bottom.set_ylim(-2500, None)\n",
    "\n",
    "# Adjust layout to make space for the bottom plot\n",
    "# plt.tight_layout()\n",
    "plt.savefig('../figures/Figure_1.pdf', bbox_inches='tight', pad_inches=0)\n",
    "plt.show()"
   ]
  }
 ],
 "metadata": {
  "kernelspec": {
   "display_name": "Python 3",
   "language": "python",
   "name": "python3"
  },
  "language_info": {
   "codemirror_mode": {
    "name": "ipython",
    "version": 3
   },
   "file_extension": ".py",
   "mimetype": "text/x-python",
   "name": "python",
   "nbconvert_exporter": "python",
   "pygments_lexer": "ipython3",
   "version": "3.11.11"
  },
  "orig_nbformat": 4
 },
 "nbformat": 4,
 "nbformat_minor": 2
}
