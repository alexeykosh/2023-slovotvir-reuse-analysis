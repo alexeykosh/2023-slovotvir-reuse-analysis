{
 "cells": [
  {
   "cell_type": "code",
   "execution_count": 226,
   "metadata": {},
   "outputs": [],
   "source": [
    "import numpy as np\n",
    "import uuid\n",
    "import pandas as pd\n",
    "from collections import defaultdict\n",
    "from tqdm.auto import trange\n",
    "import matplotlib.pyplot as plt"
   ]
  },
  {
   "cell_type": "code",
   "execution_count": 227,
   "metadata": {},
   "outputs": [],
   "source": [
    "epochs = 100"
   ]
  },
  {
   "cell_type": "code",
   "execution_count": 228,
   "metadata": {},
   "outputs": [],
   "source": [
    "df = pd.read_csv('../data/words_translations.csv')\n",
    "df = df.dropna(subset=['rating'])\n",
    "df['rating'] = df['rating'].astype(int)\n",
    "df = df[df['rating'] != 0]\n",
    "df['translation_created_at'] =  pd.to_datetime(df['translation_created_at'])\n",
    "df['word_created_at'] = pd.to_datetime(df['word_created_at'])\n",
    "# create 100 bins\n",
    "bins = pd.date_range(start=df['translation_created_at'].min(), end=df['translation_created_at'].max(), periods=epochs)\n",
    "# add a new column to the dataframe with the bin number\n",
    "df['bin'] = pd.cut(df['translation_created_at'], bins=bins, labels=np.arange(1, epochs, 1))\n",
    "df.dropna(subset=['bin'], inplace=True)\n",
    "df['translation_n_words'] = df['translation_body'].str.split().str.len()\n",
    "df = df[df['translation_n_words'] == 1]\n",
    "df['translation_body_length'] = df['translation_body'].str.len()"
   ]
  },
  {
   "cell_type": "code",
   "execution_count": 229,
   "metadata": {},
   "outputs": [],
   "source": [
    "df['translation_id'] =  df['translation_id'].astype(int)\n"
   ]
  },
  {
   "cell_type": "code",
   "execution_count": 230,
   "metadata": {},
   "outputs": [],
   "source": [
    "votes = pd.read_csv(\"../data/votes.csv\")\n",
    "votes['created_at'] = pd.to_datetime(votes['created_at'])\n",
    "votes['bin'] = pd.cut(votes['created_at'], bins=bins, labels=np.arange(1, epochs, 1))\n",
    "votes.dropna(subset=['bin'], inplace=True)"
   ]
  },
  {
   "cell_type": "code",
   "execution_count": 231,
   "metadata": {},
   "outputs": [],
   "source": [
    "# votes should have the same translations as df\n",
    "votes = votes[votes['translation_id'].isin(df['translation_id'])]"
   ]
  },
  {
   "cell_type": "code",
   "execution_count": 232,
   "metadata": {},
   "outputs": [],
   "source": [
    "# group by bin and user and count the number of votes\n",
    "votes_ = votes.groupby(['bin', 'user_id']).size().reset_index(name='votes')\n",
    "# for each bin, get the list of values in the column 'votes'\n",
    "votes_ = votes_.query('votes > 0')\n",
    "votes_ = votes_.groupby('bin')['votes'].apply(list).reset_index(name='votes')\n",
    "# convert to dictionary\n",
    "votes_ = votes_.set_index('bin')['votes'].to_dict()"
   ]
  },
  {
   "cell_type": "code",
   "execution_count": 233,
   "metadata": {},
   "outputs": [
    {
     "data": {
      "text/html": [
       "<div>\n",
       "<style scoped>\n",
       "    .dataframe tbody tr th:only-of-type {\n",
       "        vertical-align: middle;\n",
       "    }\n",
       "\n",
       "    .dataframe tbody tr th {\n",
       "        vertical-align: top;\n",
       "    }\n",
       "\n",
       "    .dataframe thead th {\n",
       "        text-align: right;\n",
       "    }\n",
       "</style>\n",
       "<table border=\"1\" class=\"dataframe\">\n",
       "  <thead>\n",
       "    <tr style=\"text-align: right;\">\n",
       "      <th></th>\n",
       "      <th>bin</th>\n",
       "      <th>n_words</th>\n",
       "      <th>n_translations</th>\n",
       "    </tr>\n",
       "  </thead>\n",
       "  <tbody>\n",
       "    <tr>\n",
       "      <th>0</th>\n",
       "      <td>1</td>\n",
       "      <td>8</td>\n",
       "      <td>9</td>\n",
       "    </tr>\n",
       "    <tr>\n",
       "      <th>1</th>\n",
       "      <td>2</td>\n",
       "      <td>0</td>\n",
       "      <td>0</td>\n",
       "    </tr>\n",
       "    <tr>\n",
       "      <th>2</th>\n",
       "      <td>3</td>\n",
       "      <td>14</td>\n",
       "      <td>18</td>\n",
       "    </tr>\n",
       "    <tr>\n",
       "      <th>3</th>\n",
       "      <td>4</td>\n",
       "      <td>3</td>\n",
       "      <td>3</td>\n",
       "    </tr>\n",
       "    <tr>\n",
       "      <th>4</th>\n",
       "      <td>5</td>\n",
       "      <td>77</td>\n",
       "      <td>133</td>\n",
       "    </tr>\n",
       "    <tr>\n",
       "      <th>...</th>\n",
       "      <td>...</td>\n",
       "      <td>...</td>\n",
       "      <td>...</td>\n",
       "    </tr>\n",
       "    <tr>\n",
       "      <th>94</th>\n",
       "      <td>95</td>\n",
       "      <td>280</td>\n",
       "      <td>381</td>\n",
       "    </tr>\n",
       "    <tr>\n",
       "      <th>95</th>\n",
       "      <td>96</td>\n",
       "      <td>318</td>\n",
       "      <td>459</td>\n",
       "    </tr>\n",
       "    <tr>\n",
       "      <th>96</th>\n",
       "      <td>97</td>\n",
       "      <td>309</td>\n",
       "      <td>404</td>\n",
       "    </tr>\n",
       "    <tr>\n",
       "      <th>97</th>\n",
       "      <td>98</td>\n",
       "      <td>220</td>\n",
       "      <td>303</td>\n",
       "    </tr>\n",
       "    <tr>\n",
       "      <th>98</th>\n",
       "      <td>99</td>\n",
       "      <td>155</td>\n",
       "      <td>230</td>\n",
       "    </tr>\n",
       "  </tbody>\n",
       "</table>\n",
       "<p>99 rows × 3 columns</p>\n",
       "</div>"
      ],
      "text/plain": [
       "   bin  n_words  n_translations\n",
       "0    1        8               9\n",
       "1    2        0               0\n",
       "2    3       14              18\n",
       "3    4        3               3\n",
       "4    5       77             133\n",
       "..  ..      ...             ...\n",
       "94  95      280             381\n",
       "95  96      318             459\n",
       "96  97      309             404\n",
       "97  98      220             303\n",
       "98  99      155             230\n",
       "\n",
       "[99 rows x 3 columns]"
      ]
     },
     "execution_count": 233,
     "metadata": {},
     "output_type": "execute_result"
    }
   ],
   "source": [
    "# table with n of unique words and translations per bin\n",
    "df_unique = df.groupby('bin').agg({'word_id': 'nunique', 'translation_id': 'nunique'}).reset_index()\n",
    "df_unique.columns = ['bin', 'n_words', 'n_translations']\n",
    "df_unique"
   ]
  },
  {
   "cell_type": "code",
   "execution_count": 234,
   "metadata": {},
   "outputs": [],
   "source": [
    "n_words = df_unique['n_words'].to_numpy().round().astype(int)\n",
    "n_translations = df_unique['n_translations'].to_numpy().astype(int)"
   ]
  },
  {
   "cell_type": "code",
   "execution_count": 276,
   "metadata": {},
   "outputs": [],
   "source": [
    "class Model:\n",
    "    \n",
    "    def __init__(self, n_words, n_translations, lengths, votes, a, b) -> None:\n",
    "        self.n_words = n_words\n",
    "        self.n_translations = n_translations\n",
    "\n",
    "        self.lengths = lengths\n",
    "        self.votes = votes\n",
    "\n",
    "        self.n_epochs = self.n_translations.shape[0]\n",
    "\n",
    "        self.word_pool = defaultdict(list)\n",
    "        self.translation_pool = defaultdict(list)\n",
    "\n",
    "        self.a = a\n",
    "        self.b = b\n",
    "\n",
    "    def run(self):\n",
    "        for ep in trange(self.n_epochs):\n",
    "            n_words_ = self.n_words[ep]\n",
    "            n_translations_ = self.n_translations[ep]\n",
    "\n",
    "            # print('Epoch: ', ep)\n",
    "\n",
    "            [self.word_pool[uuid.uuid1()] for _ in range(n_words_)]\n",
    "            unique_words = list(self.word_pool.keys())\n",
    "\n",
    "            # print(len(unique_words))\n",
    "            \n",
    "            for t in range(n_translations_):\n",
    "                word = np.random.choice(unique_words)\n",
    "                tr = uuid.uuid1()\n",
    "                self.word_pool[word].append(tr)\n",
    "                self.translation_pool[tr].append(np.random.choice(self.lengths))\n",
    "                self.translation_pool[tr].append(0)\n",
    "\n",
    "            unique_votes = self.votes[ep + 1]\n",
    "\n",
    "            for v in unique_votes:\n",
    "                for _ in range(v):\n",
    "                    word = np.random.choice(unique_words)\n",
    "                    translations = self.word_pool[word]\n",
    "                    \n",
    "                    while not translations:\n",
    "                        word = np.random.choice(unique_words)\n",
    "                        translations = self.word_pool[word]\n",
    "                    # for each translation get length and number of likes\n",
    "                    lengths = [self.translation_pool[tr][0] for tr in translations]\n",
    "                    likes = [self.translation_pool[tr][1] for tr in translations]\n",
    "                    likes_r = (np.array(likes)).argsort().argsort() + 1\n",
    "\n",
    "                    # calculate the probability of each translation\n",
    "                    p = np.array((np.array(lengths) ** self.a) + (np.log(likes_r) ** self.b))\n",
    "                    p = p / p.sum()\n",
    "                    \n",
    "                    # randomly choose a translation\n",
    "                    tr = np.random.choice(translations, p=p)\n",
    "                    # increase the number of likes for the translation\n",
    "                    self.translation_pool[tr][1] += 1"
   ]
  },
  {
   "cell_type": "code",
   "execution_count": 277,
   "metadata": {},
   "outputs": [
    {
     "data": {
      "text/plain": [
       "array([1, 5, 4, 3, 2])"
      ]
     },
     "execution_count": 277,
     "metadata": {},
     "output_type": "execute_result"
    }
   ],
   "source": [
    "a = np.random.randint(1, 40, 5)\n",
    "\n",
    "# give values in a ranks from 1 to 20 (1 is the largest value)\n",
    "(1/a).argsort().argsort() + 1"
   ]
  },
  {
   "cell_type": "code",
   "execution_count": 278,
   "metadata": {},
   "outputs": [
    {
     "data": {
      "text/plain": [
       "array([35, 11, 15, 17, 31])"
      ]
     },
     "execution_count": 278,
     "metadata": {},
     "output_type": "execute_result"
    }
   ],
   "source": [
    "a"
   ]
  },
  {
   "cell_type": "code",
   "execution_count": 279,
   "metadata": {},
   "outputs": [],
   "source": [
    "lengths = df['translation_body_length'].to_numpy().astype(int)\n",
    "\n",
    "a = Model(n_words=n_words, n_translations=n_translations, lengths=lengths, votes=votes_, a=0, b=1)"
   ]
  },
  {
   "cell_type": "code",
   "execution_count": 280,
   "metadata": {},
   "outputs": [
    {
     "name": "stderr",
     "output_type": "stream",
     "text": [
      " 10%|█         | 10/99 [00:05<00:55,  1.60it/s]"
     ]
    }
   ],
   "source": [
    "a.run()"
   ]
  },
  {
   "cell_type": "code",
   "execution_count": null,
   "metadata": {},
   "outputs": [],
   "source": [
    "likes_true = df['rating'].to_numpy().astype(int)\n",
    "ranked_true = np.argsort(likes_true)[::-1]"
   ]
  },
  {
   "cell_type": "code",
   "execution_count": null,
   "metadata": {},
   "outputs": [
    {
     "data": {
      "text/plain": [
       "146356"
      ]
     },
     "execution_count": 239,
     "metadata": {},
     "output_type": "execute_result"
    }
   ],
   "source": [
    "likes_true.sum()"
   ]
  },
  {
   "cell_type": "code",
   "execution_count": null,
   "metadata": {},
   "outputs": [
    {
     "data": {
      "image/png": "[encoded data removed]",
      "text/plain": [
       "<Figure size 700x300 with 1 Axes>"
      ]
     },
     "metadata": {},
     "output_type": "display_data"
    }
   ],
   "source": [
    "# get the number of likes for each translation\n",
    "likes = [a.translation_pool[tr][1] for tr in a.translation_pool.keys()]\n",
    "# ramk the translations by the number of likes\n",
    "ranked = np.argsort(likes)[::-1]\n",
    "# plot rank and likes as y and x\n",
    "plt.figure(figsize=(7, 3))\n",
    "plt.scatter(np.arange(len(ranked)), np.array(likes)[ranked], label = 'model')\n",
    "plt.scatter(np.arange(len(ranked_true)), np.array(likes_true)[ranked_true], label = 'true')\n",
    "plt.legend()\n",
    "# log log scales\n",
    "plt.xscale('log')\n",
    "plt.yscale('log')\n",
    "plt.grid()\n",
    "plt.show()"
   ]
  },
  {
   "cell_type": "code",
   "execution_count": null,
   "metadata": {},
   "outputs": [
    {
     "data": {
      "text/plain": [
       "145781"
      ]
     },
     "execution_count": 248,
     "metadata": {},
     "output_type": "execute_result"
    }
   ],
   "source": [
    "sum(likes)"
   ]
  },
  {
   "cell_type": "code",
   "execution_count": null,
   "metadata": {},
   "outputs": [
    {
     "data": {
      "image/png": "[encoded data removed]",
      "text/plain": [
       "<Figure size 640x480 with 1 Axes>"
      ]
     },
     "metadata": {},
     "output_type": "display_data"
    }
   ],
   "source": [
    "# plot length likes correlation from the translation pool\n",
    "lengths = [a.translation_pool[tr][0] for tr in a.translation_pool.keys()]\n",
    "likes = [a.translation_pool[tr][1] for tr in a.translation_pool.keys()]\n",
    "\n",
    "plt.scatter(lengths, likes)\n",
    "plt.xlabel('length')\n",
    "plt.ylabel('likes')\n",
    "plt.grid()\n",
    "plt.show()"
   ]
  }
 ],
 "metadata": {
  "kernelspec": {
   "display_name": "Python 3",
   "language": "python",
   "name": "python3"
  },
  "language_info": {
   "codemirror_mode": {
    "name": "ipython",
    "version": 3
   },
   "file_extension": ".py",
   "mimetype": "text/x-python",
   "name": "python",
   "nbconvert_exporter": "python",
   "pygments_lexer": "ipython3",
   "version": "3.11.2"
  },
  "orig_nbformat": 4
 },
 "nbformat": 4,
 "nbformat_minor": 2
}
